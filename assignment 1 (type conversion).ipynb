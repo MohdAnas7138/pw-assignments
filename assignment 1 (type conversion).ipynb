{
 "cells": [
  {
   "cell_type": "code",
   "execution_count": 1,
   "id": "9ee76ff0-aa2e-47ea-9410-2bc930ce1d9e",
   "metadata": {},
   "outputs": [],
   "source": [
    "# Q1- convert an integer to a floating- point number."
   ]
  },
  {
   "cell_type": "code",
   "execution_count": 23,
   "id": "8fe3e050-8d32-4926-8ac8-c9609be45515",
   "metadata": {},
   "outputs": [
    {
     "data": {
      "text/plain": [
       "int"
      ]
     },
     "execution_count": 23,
     "metadata": {},
     "output_type": "execute_result"
    }
   ],
   "source": [
    "#lets take an integer 15 in a variable 'a'.\n",
    "a = 15\n",
    "type(a)"
   ]
  },
  {
   "cell_type": "code",
   "execution_count": 38,
   "id": "b223bf75-f2e3-49a6-ac26-ac9c1b3900b7",
   "metadata": {},
   "outputs": [
    {
     "data": {
      "text/plain": [
       "15.0"
      ]
     },
     "execution_count": 38,
     "metadata": {},
     "output_type": "execute_result"
    }
   ],
   "source": [
    "#now converting an integer into a float.\n",
    "float(a)\n"
   ]
  },
  {
   "cell_type": "code",
   "execution_count": 39,
   "id": "8789ccfc-bb1b-4ebc-a0e8-ea79c5cffa6c",
   "metadata": {},
   "outputs": [
    {
     "data": {
      "text/plain": [
       "float"
      ]
     },
     "execution_count": 39,
     "metadata": {},
     "output_type": "execute_result"
    }
   ],
   "source": [
    "# now storing in variable 'b' and checking the type of variable 'b'.\n",
    "b = float(a)\n",
    "type(b)"
   ]
  },
  {
   "cell_type": "code",
   "execution_count": null,
   "id": "d760dcb9-6c99-45c3-92a0-b9c84f951527",
   "metadata": {},
   "outputs": [],
   "source": [
    "# Q2- convert a float to an integer."
   ]
  },
  {
   "cell_type": "code",
   "execution_count": 40,
   "id": "b9b94e5b-454a-43cb-a3e6-c2afcc05fa17",
   "metadata": {},
   "outputs": [
    {
     "data": {
      "text/plain": [
       "float"
      ]
     },
     "execution_count": 40,
     "metadata": {},
     "output_type": "execute_result"
    }
   ],
   "source": [
    "#lets take a float 35.5 in a variable 'c'\n",
    "c = 35.5\n",
    "type(c)"
   ]
  },
  {
   "cell_type": "code",
   "execution_count": 41,
   "id": "d2df0369-98b5-4ffa-86b5-cabd25bb3488",
   "metadata": {},
   "outputs": [
    {
     "data": {
      "text/plain": [
       "35"
      ]
     },
     "execution_count": 41,
     "metadata": {},
     "output_type": "execute_result"
    }
   ],
   "source": [
    "#now converting a float to an integer\n",
    "int(c)"
   ]
  },
  {
   "cell_type": "code",
   "execution_count": 44,
   "id": "22bcb0a3-7a76-4650-811f-bf66eb139b8c",
   "metadata": {},
   "outputs": [
    {
     "data": {
      "text/plain": [
       "int"
      ]
     },
     "execution_count": 44,
     "metadata": {},
     "output_type": "execute_result"
    }
   ],
   "source": [
    "# now storing in a variable 'd' and checking the type of 'd'.\n",
    "d = int(c)\n",
    "type(d)"
   ]
  },
  {
   "cell_type": "code",
   "execution_count": 45,
   "id": "65df191b-f4b1-4fe6-9e7d-ec626137a807",
   "metadata": {},
   "outputs": [],
   "source": [
    "# Q3- convert an integer into a string."
   ]
  },
  {
   "cell_type": "code",
   "execution_count": 52,
   "id": "16ee173d-14d3-4eb1-a4f8-44ef5587e9c3",
   "metadata": {},
   "outputs": [
    {
     "data": {
      "text/plain": [
       "int"
      ]
     },
     "execution_count": 52,
     "metadata": {},
     "output_type": "execute_result"
    }
   ],
   "source": [
    "# taking an integer 14 in a variable 'e'.\n",
    "e = 14\n",
    "type(e)"
   ]
  },
  {
   "cell_type": "code",
   "execution_count": 51,
   "id": "1f034578-aa52-4e23-961f-25a2cd9f8e34",
   "metadata": {},
   "outputs": [
    {
     "data": {
      "text/plain": [
       "'14'"
      ]
     },
     "execution_count": 51,
     "metadata": {},
     "output_type": "execute_result"
    }
   ],
   "source": [
    "# converting an integer in string.\n",
    "str(e)"
   ]
  },
  {
   "cell_type": "code",
   "execution_count": 50,
   "id": "faa1940d-ee69-4835-b252-d6522ad3a9a7",
   "metadata": {},
   "outputs": [
    {
     "data": {
      "text/plain": [
       "str"
      ]
     },
     "execution_count": 50,
     "metadata": {},
     "output_type": "execute_result"
    }
   ],
   "source": [
    "# storing in a variable 'f' and checking its type.\n",
    "f = str(e)\n",
    "type(f)"
   ]
  },
  {
   "cell_type": "code",
   "execution_count": 53,
   "id": "72e2caf8-b32f-43d1-96df-21343e5b4847",
   "metadata": {},
   "outputs": [],
   "source": [
    "# Q4- convert a list to a tuple."
   ]
  },
  {
   "cell_type": "code",
   "execution_count": 54,
   "id": "513d5cf2-09da-4c2b-a436-a3442656f766",
   "metadata": {},
   "outputs": [
    {
     "data": {
      "text/plain": [
       "list"
      ]
     },
     "execution_count": 54,
     "metadata": {},
     "output_type": "execute_result"
    }
   ],
   "source": [
    "# making a list in variable 'my_list'.\n",
    "my_list = ['anas', 'akshay', 14, 16 ]\n",
    "type(my_list)"
   ]
  },
  {
   "cell_type": "code",
   "execution_count": 55,
   "id": "f801788d-b68e-4c12-9e91-971f1c918c64",
   "metadata": {},
   "outputs": [
    {
     "data": {
      "text/plain": [
       "('anas', 'akshay', 14, 16)"
      ]
     },
     "execution_count": 55,
     "metadata": {},
     "output_type": "execute_result"
    }
   ],
   "source": [
    "# converting the list into tuple.\n",
    "tuple(my_list)"
   ]
  },
  {
   "cell_type": "code",
   "execution_count": 56,
   "id": "c8fdb8a1-9bd9-4f94-8c4a-04732e16e388",
   "metadata": {},
   "outputs": [
    {
     "data": {
      "text/plain": [
       "tuple"
      ]
     },
     "execution_count": 56,
     "metadata": {},
     "output_type": "execute_result"
    }
   ],
   "source": [
    "# storing in a variable 'g' and checking its type.\n",
    "g = tuple(my_list)\n",
    "type(g)"
   ]
  },
  {
   "cell_type": "code",
   "execution_count": null,
   "id": "f310ef70-ed78-4cb5-abda-06afc68361a0",
   "metadata": {},
   "outputs": [],
   "source": [
    "# Q5- converting tuple into a list."
   ]
  },
  {
   "cell_type": "code",
   "execution_count": 62,
   "id": "cc3b4b48-ef1a-4fc9-8040-413d0498ea64",
   "metadata": {},
   "outputs": [
    {
     "data": {
      "text/plain": [
       "tuple"
      ]
     },
     "execution_count": 62,
     "metadata": {},
     "output_type": "execute_result"
    }
   ],
   "source": [
    "# creating a tuple in a variable 'my_tup'.\n",
    "my_tup = ('abhishek', 'ajay', 74, 67 )\n",
    "type(my_tup)"
   ]
  },
  {
   "cell_type": "code",
   "execution_count": 63,
   "id": "21f781fd-1bc7-46d9-8860-bdf0a1c89fa6",
   "metadata": {},
   "outputs": [
    {
     "data": {
      "text/plain": [
       "['abhishek', 'ajay', 74, 67]"
      ]
     },
     "execution_count": 63,
     "metadata": {},
     "output_type": "execute_result"
    }
   ],
   "source": [
    "# converting tuple into list.\n",
    "list(my_tup)"
   ]
  },
  {
   "cell_type": "code",
   "execution_count": 61,
   "id": "6e78d189-e14f-4fea-9b43-425755b4e757",
   "metadata": {},
   "outputs": [
    {
     "data": {
      "text/plain": [
       "list"
      ]
     },
     "execution_count": 61,
     "metadata": {},
     "output_type": "execute_result"
    }
   ],
   "source": [
    "# storing in variable 'h' and checking its type.\n",
    "h = list(my_tup)\n",
    "type(h)"
   ]
  },
  {
   "cell_type": "code",
   "execution_count": 64,
   "id": "46495f0e-70d1-4020-b2f2-75aadeddf6e4",
   "metadata": {},
   "outputs": [],
   "source": [
    "# Q6- convert a decimal number to binary."
   ]
  },
  {
   "cell_type": "code",
   "execution_count": 1,
   "id": "0abcf92b-f547-4bf4-a2c8-175ed0dff7f4",
   "metadata": {},
   "outputs": [
    {
     "data": {
      "text/plain": [
       "int"
      ]
     },
     "execution_count": 1,
     "metadata": {},
     "output_type": "execute_result"
    }
   ],
   "source": [
    "i = 42\n",
    "type(i)"
   ]
  },
  {
   "cell_type": "code",
   "execution_count": 2,
   "id": "17d13edc-741b-4802-af47-261c05cdcad4",
   "metadata": {},
   "outputs": [
    {
     "data": {
      "text/plain": [
       "'0b101010'"
      ]
     },
     "execution_count": 2,
     "metadata": {},
     "output_type": "execute_result"
    }
   ],
   "source": [
    "bin(i)"
   ]
  },
  {
   "cell_type": "code",
   "execution_count": 70,
   "id": "1ff121f2-ca48-4459-986b-ae57c44c5a24",
   "metadata": {},
   "outputs": [],
   "source": [
    "# decimal number cannot be convert to binary using bin function."
   ]
  },
  {
   "cell_type": "code",
   "execution_count": 74,
   "id": "6dc73902-63b1-4c2b-b45f-1247181fbe2d",
   "metadata": {},
   "outputs": [],
   "source": [
    "# Q7- convert non-zero number to boolean."
   ]
  },
  {
   "cell_type": "code",
   "execution_count": 88,
   "id": "f0065ef4-6b56-49e6-b820-c439b4eeb079",
   "metadata": {},
   "outputs": [],
   "source": [
    "# taking a non zero number '14' in a variable 'j'\n",
    "j = 14"
   ]
  },
  {
   "cell_type": "code",
   "execution_count": 89,
   "id": "a64ee0a7-ad27-4300-b843-6a5817301eee",
   "metadata": {},
   "outputs": [
    {
     "data": {
      "text/plain": [
       "True"
      ]
     },
     "execution_count": 89,
     "metadata": {},
     "output_type": "execute_result"
    }
   ],
   "source": [
    "# converting the number to boolean.\n",
    "bool(j)"
   ]
  },
  {
   "cell_type": "code",
   "execution_count": 90,
   "id": "5598a3e8-f14b-4b50-9039-69c91bd6d3cb",
   "metadata": {},
   "outputs": [
    {
     "data": {
      "text/plain": [
       "bool"
      ]
     },
     "execution_count": 90,
     "metadata": {},
     "output_type": "execute_result"
    }
   ],
   "source": [
    "# storing in a variable 'k' and checking its type.\n",
    "k = bool(j)\n",
    "type(k)"
   ]
  }
 ],
 "metadata": {
  "kernelspec": {
   "display_name": "Python 3 (ipykernel)",
   "language": "python",
   "name": "python3"
  },
  "language_info": {
   "codemirror_mode": {
    "name": "ipython",
    "version": 3
   },
   "file_extension": ".py",
   "mimetype": "text/x-python",
   "name": "python",
   "nbconvert_exporter": "python",
   "pygments_lexer": "ipython3",
   "version": "3.10.8"
  }
 },
 "nbformat": 4,
 "nbformat_minor": 5
}
