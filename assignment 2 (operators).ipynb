{
 "cells": [
  {
   "cell_type": "code",
   "execution_count": 1,
   "id": "c3d8fee7-758f-412d-b52a-d8a8a330b8f9",
   "metadata": {},
   "outputs": [],
   "source": [
    "# Q1- Calculate the sum, difference, product, and quotient of two numbers."
   ]
  },
  {
   "cell_type": "code",
   "execution_count": 8,
   "id": "8984a27a-4e0e-45f4-924e-7a3b7d3bca6f",
   "metadata": {},
   "outputs": [
    {
     "name": "stdout",
     "output_type": "stream",
     "text": [
      "15\n"
     ]
    }
   ],
   "source": [
    "#sum\n",
    "a = 10\n",
    "b = 5\n",
    "print(a+b)"
   ]
  },
  {
   "cell_type": "code",
   "execution_count": 9,
   "id": "89836992-80dc-4e31-bad8-0f58da7d051d",
   "metadata": {},
   "outputs": [
    {
     "name": "stdout",
     "output_type": "stream",
     "text": [
      "5\n"
     ]
    }
   ],
   "source": [
    "#difference\n",
    "a = 10\n",
    "b = 5\n",
    "print(a-b)"
   ]
  },
  {
   "cell_type": "code",
   "execution_count": 10,
   "id": "9fb931f8-c0fe-4dbd-80fa-ff9ae673ade9",
   "metadata": {},
   "outputs": [
    {
     "name": "stdout",
     "output_type": "stream",
     "text": [
      "50\n"
     ]
    }
   ],
   "source": [
    "#product\n",
    "a = 10\n",
    "b = 5\n",
    "print(a*b)"
   ]
  },
  {
   "cell_type": "code",
   "execution_count": 12,
   "id": "0f136a89-dbb8-4d03-abd6-de1047cd3d06",
   "metadata": {},
   "outputs": [
    {
     "name": "stdout",
     "output_type": "stream",
     "text": [
      "2.0\n"
     ]
    }
   ],
   "source": [
    "# quotient\n",
    "a = 10\n",
    "b = 5\n",
    "print(a/b)"
   ]
  },
  {
   "cell_type": "code",
   "execution_count": 13,
   "id": "3ad4fc05-4442-4400-bd44-c9a14a1d1114",
   "metadata": {},
   "outputs": [],
   "source": [
    "# Q2- perform various assignment operations on a variable in python."
   ]
  },
  {
   "cell_type": "code",
   "execution_count": 39,
   "id": "5331d314-0b07-4687-a234-e6af95b30ec4",
   "metadata": {},
   "outputs": [
    {
     "name": "stdout",
     "output_type": "stream",
     "text": [
      "20\n"
     ]
    }
   ],
   "source": [
    "#Addition assignment\n",
    "x = 20\n",
    "print(x)"
   ]
  },
  {
   "cell_type": "code",
   "execution_count": 40,
   "id": "3ecd47f6-43f8-4897-af17-7a01e7a15b39",
   "metadata": {},
   "outputs": [
    {
     "name": "stdout",
     "output_type": "stream",
     "text": [
      "25\n"
     ]
    }
   ],
   "source": [
    "x += 5\n",
    "print(x)"
   ]
  },
  {
   "cell_type": "code",
   "execution_count": 41,
   "id": "8700a4d1-f482-4391-8914-b3155667a1f7",
   "metadata": {},
   "outputs": [
    {
     "name": "stdout",
     "output_type": "stream",
     "text": [
      "20\n"
     ]
    }
   ],
   "source": [
    "#Subtraction assignment\n",
    "y = 20\n",
    "print(y)"
   ]
  },
  {
   "cell_type": "code",
   "execution_count": 42,
   "id": "ac2212c6-74c9-45cb-a7ac-78b61f36bc5d",
   "metadata": {},
   "outputs": [
    {
     "name": "stdout",
     "output_type": "stream",
     "text": [
      "15\n"
     ]
    }
   ],
   "source": [
    "y -= 5\n",
    "print(y)"
   ]
  },
  {
   "cell_type": "code",
   "execution_count": 45,
   "id": "1b8ae682-ae59-48e0-b58b-74cc77cc6056",
   "metadata": {},
   "outputs": [
    {
     "name": "stdout",
     "output_type": "stream",
     "text": [
      "30\n"
     ]
    }
   ],
   "source": [
    "#Multiplication assignment\n",
    "i = 30\n",
    "print(i)"
   ]
  },
  {
   "cell_type": "code",
   "execution_count": 46,
   "id": "2df0672a-0adf-441f-94a2-efdfe3f499c4",
   "metadata": {},
   "outputs": [
    {
     "name": "stdout",
     "output_type": "stream",
     "text": [
      "90\n"
     ]
    }
   ],
   "source": [
    "i *= 3\n",
    "print(i)"
   ]
  },
  {
   "cell_type": "code",
   "execution_count": 47,
   "id": "78834b6f-c619-4a16-956c-21d8343a00c4",
   "metadata": {},
   "outputs": [
    {
     "name": "stdout",
     "output_type": "stream",
     "text": [
      "35\n"
     ]
    }
   ],
   "source": [
    "#Division assignment\n",
    "k = 35\n",
    "print(k)"
   ]
  },
  {
   "cell_type": "code",
   "execution_count": 48,
   "id": "7450bab2-fc64-40c8-bd73-13830cce633e",
   "metadata": {},
   "outputs": [
    {
     "name": "stdout",
     "output_type": "stream",
     "text": [
      "7.0\n"
     ]
    }
   ],
   "source": [
    "k /= 5\n",
    "print(k)"
   ]
  },
  {
   "cell_type": "code",
   "execution_count": 49,
   "id": "59d3818d-c5fa-438d-a40d-4d451ff511cd",
   "metadata": {},
   "outputs": [
    {
     "name": "stdout",
     "output_type": "stream",
     "text": [
      "13\n"
     ]
    }
   ],
   "source": [
    "#Modulus assignment\n",
    "c = 13\n",
    "print(c)"
   ]
  },
  {
   "cell_type": "code",
   "execution_count": 51,
   "id": "ccd28c30-777c-4572-82dc-f03a02e6489e",
   "metadata": {},
   "outputs": [
    {
     "name": "stdout",
     "output_type": "stream",
     "text": [
      "1\n"
     ]
    }
   ],
   "source": [
    "c %= 6\n",
    "print(c)"
   ]
  },
  {
   "cell_type": "code",
   "execution_count": 59,
   "id": "67f12e38-7485-41d3-bd9d-8f4498596194",
   "metadata": {},
   "outputs": [
    {
     "name": "stdout",
     "output_type": "stream",
     "text": [
      "100\n"
     ]
    }
   ],
   "source": [
    "#Floor division assignment\n",
    "d = 100\n",
    "print(d)"
   ]
  },
  {
   "cell_type": "code",
   "execution_count": 60,
   "id": "f25f7e34-fc98-402d-9f48-fd1c49082a0f",
   "metadata": {},
   "outputs": [
    {
     "name": "stdout",
     "output_type": "stream",
     "text": [
      "33\n"
     ]
    }
   ],
   "source": [
    "d //=3\n",
    "print(d)"
   ]
  },
  {
   "cell_type": "code",
   "execution_count": 61,
   "id": "933a6ed8-dab8-48fd-a863-a64f549617f4",
   "metadata": {},
   "outputs": [
    {
     "name": "stdout",
     "output_type": "stream",
     "text": [
      "4\n"
     ]
    }
   ],
   "source": [
    "#Exponentiation assignment\n",
    "f = 4\n",
    "print(f)"
   ]
  },
  {
   "cell_type": "code",
   "execution_count": 62,
   "id": "e65368df-fad5-4c6a-b20d-21a618ce2602",
   "metadata": {},
   "outputs": [
    {
     "name": "stdout",
     "output_type": "stream",
     "text": [
      "64\n"
     ]
    }
   ],
   "source": [
    "f **=3\n",
    "print(f)"
   ]
  },
  {
   "cell_type": "code",
   "execution_count": 63,
   "id": "c2c3e1f0-be5a-4b60-a357-213749a0794e",
   "metadata": {},
   "outputs": [],
   "source": [
    "# Q3- compare two numbers and print the result"
   ]
  },
  {
   "cell_type": "code",
   "execution_count": 64,
   "id": "6faf965e-f531-4832-b9f5-8fff654cee51",
   "metadata": {},
   "outputs": [],
   "source": [
    "l = 10\n",
    "m = 5"
   ]
  },
  {
   "cell_type": "code",
   "execution_count": 65,
   "id": "e01a11df-0f18-4fd9-b002-d5d71884db88",
   "metadata": {},
   "outputs": [
    {
     "data": {
      "text/plain": [
       "False"
      ]
     },
     "execution_count": 65,
     "metadata": {},
     "output_type": "execute_result"
    }
   ],
   "source": [
    "l == m"
   ]
  },
  {
   "cell_type": "code",
   "execution_count": 67,
   "id": "21baab82-b6a3-4ef7-b39d-3391f5569fb0",
   "metadata": {},
   "outputs": [
    {
     "data": {
      "text/plain": [
       "True"
      ]
     },
     "execution_count": 67,
     "metadata": {},
     "output_type": "execute_result"
    }
   ],
   "source": [
    "l != m"
   ]
  },
  {
   "cell_type": "code",
   "execution_count": 68,
   "id": "99dde879-a0e0-4a33-8d2e-5bd2c75189ba",
   "metadata": {},
   "outputs": [
    {
     "data": {
      "text/plain": [
       "False"
      ]
     },
     "execution_count": 68,
     "metadata": {},
     "output_type": "execute_result"
    }
   ],
   "source": [
    "l < m"
   ]
  },
  {
   "cell_type": "code",
   "execution_count": 69,
   "id": "9ea9242a-dcfb-4535-97b5-150e15e05d6e",
   "metadata": {},
   "outputs": [
    {
     "data": {
      "text/plain": [
       "True"
      ]
     },
     "execution_count": 69,
     "metadata": {},
     "output_type": "execute_result"
    }
   ],
   "source": [
    "l > m"
   ]
  },
  {
   "cell_type": "code",
   "execution_count": 70,
   "id": "35e50293-8e15-4c27-a714-914e4c3ab355",
   "metadata": {},
   "outputs": [],
   "source": [
    "# Q4- check condition using logical operator "
   ]
  },
  {
   "cell_type": "code",
   "execution_count": 72,
   "id": "d1de9a57-18c3-41af-8231-b2e60c146f68",
   "metadata": {},
   "outputs": [
    {
     "data": {
      "text/plain": [
       "True"
      ]
     },
     "execution_count": 72,
     "metadata": {},
     "output_type": "execute_result"
    }
   ],
   "source": [
    "#And operator\n",
    "True and True"
   ]
  },
  {
   "cell_type": "code",
   "execution_count": 73,
   "id": "9f7c91d8-5e82-482d-af7e-43f127d3792e",
   "metadata": {},
   "outputs": [
    {
     "data": {
      "text/plain": [
       "False"
      ]
     },
     "execution_count": 73,
     "metadata": {},
     "output_type": "execute_result"
    }
   ],
   "source": [
    "True and False "
   ]
  },
  {
   "cell_type": "code",
   "execution_count": 74,
   "id": "e0eece62-3c4e-4c8a-8171-9a13c7b149f7",
   "metadata": {},
   "outputs": [
    {
     "data": {
      "text/plain": [
       "False"
      ]
     },
     "execution_count": 74,
     "metadata": {},
     "output_type": "execute_result"
    }
   ],
   "source": [
    "False and True"
   ]
  },
  {
   "cell_type": "code",
   "execution_count": 75,
   "id": "45554ff3-59f4-40fc-a8a9-8bc48a571011",
   "metadata": {},
   "outputs": [
    {
     "data": {
      "text/plain": [
       "False"
      ]
     },
     "execution_count": 75,
     "metadata": {},
     "output_type": "execute_result"
    }
   ],
   "source": [
    "False and False"
   ]
  },
  {
   "cell_type": "code",
   "execution_count": 76,
   "id": "f7b38eae-3b35-481d-ac31-94ebb9a390c9",
   "metadata": {},
   "outputs": [
    {
     "data": {
      "text/plain": [
       "True"
      ]
     },
     "execution_count": 76,
     "metadata": {},
     "output_type": "execute_result"
    }
   ],
   "source": [
    "# OR operator\n",
    "True or True"
   ]
  },
  {
   "cell_type": "code",
   "execution_count": 77,
   "id": "4b00bb1b-7914-4205-9b7d-2666644bf9b8",
   "metadata": {},
   "outputs": [
    {
     "data": {
      "text/plain": [
       "True"
      ]
     },
     "execution_count": 77,
     "metadata": {},
     "output_type": "execute_result"
    }
   ],
   "source": [
    "True or False"
   ]
  },
  {
   "cell_type": "code",
   "execution_count": 78,
   "id": "59c4e46a-b367-48ec-946d-f31ddbfc4c7d",
   "metadata": {},
   "outputs": [
    {
     "data": {
      "text/plain": [
       "True"
      ]
     },
     "execution_count": 78,
     "metadata": {},
     "output_type": "execute_result"
    }
   ],
   "source": [
    "False or True"
   ]
  },
  {
   "cell_type": "code",
   "execution_count": 79,
   "id": "089ea6c3-4370-4356-9d5a-c1df6eedad3e",
   "metadata": {},
   "outputs": [
    {
     "data": {
      "text/plain": [
       "False"
      ]
     },
     "execution_count": 79,
     "metadata": {},
     "output_type": "execute_result"
    }
   ],
   "source": [
    "False or False"
   ]
  },
  {
   "cell_type": "code",
   "execution_count": 80,
   "id": "48ca3415-d284-4b80-9782-756fc7e18b05",
   "metadata": {},
   "outputs": [
    {
     "data": {
      "text/plain": [
       "False"
      ]
     },
     "execution_count": 80,
     "metadata": {},
     "output_type": "execute_result"
    }
   ],
   "source": [
    "# not operator\n",
    "not True"
   ]
  },
  {
   "cell_type": "code",
   "execution_count": 81,
   "id": "a16305a1-82ce-4e91-a992-90fb9a6285cc",
   "metadata": {},
   "outputs": [
    {
     "data": {
      "text/plain": [
       "True"
      ]
     },
     "execution_count": 81,
     "metadata": {},
     "output_type": "execute_result"
    }
   ],
   "source": [
    "not False"
   ]
  },
  {
   "cell_type": "code",
   "execution_count": 82,
   "id": "9ab10cb3-c461-43c7-b32b-8db58b9dfbcf",
   "metadata": {},
   "outputs": [],
   "source": [
    "# Q5- check the identity of variables"
   ]
  },
  {
   "cell_type": "code",
   "execution_count": 83,
   "id": "049fc689-9a22-448a-be6f-79d72bd83a13",
   "metadata": {},
   "outputs": [],
   "source": [
    "p = \"data\"\n",
    "q = \"analysis\""
   ]
  },
  {
   "cell_type": "code",
   "execution_count": 84,
   "id": "c6fcc0ba-f6a6-4f67-a0cf-88f680e6bd01",
   "metadata": {},
   "outputs": [
    {
     "data": {
      "text/plain": [
       "False"
      ]
     },
     "execution_count": 84,
     "metadata": {},
     "output_type": "execute_result"
    }
   ],
   "source": [
    "p is q"
   ]
  },
  {
   "cell_type": "code",
   "execution_count": 85,
   "id": "9f32ad77-fc06-440b-a17d-183569a9a15f",
   "metadata": {},
   "outputs": [
    {
     "data": {
      "text/plain": [
       "True"
      ]
     },
     "execution_count": 85,
     "metadata": {},
     "output_type": "execute_result"
    }
   ],
   "source": [
    "p is not q"
   ]
  },
  {
   "cell_type": "code",
   "execution_count": 86,
   "id": "1d27fe78-f4ec-4b51-afdd-dc43907a0de1",
   "metadata": {},
   "outputs": [],
   "source": [
    "r = 45\n",
    "s = 45"
   ]
  },
  {
   "cell_type": "code",
   "execution_count": 87,
   "id": "9d4a7b0a-4f88-4708-939b-76c9bc5858b2",
   "metadata": {},
   "outputs": [
    {
     "data": {
      "text/plain": [
       "True"
      ]
     },
     "execution_count": 87,
     "metadata": {},
     "output_type": "execute_result"
    }
   ],
   "source": [
    "r is s"
   ]
  },
  {
   "cell_type": "code",
   "execution_count": 88,
   "id": "f2b85947-ffeb-4363-87c6-9cf4a719c250",
   "metadata": {},
   "outputs": [
    {
     "data": {
      "text/plain": [
       "False"
      ]
     },
     "execution_count": 88,
     "metadata": {},
     "output_type": "execute_result"
    }
   ],
   "source": [
    "r is not s"
   ]
  },
  {
   "cell_type": "code",
   "execution_count": 89,
   "id": "99b01173-8e04-4484-9e90-23878804652a",
   "metadata": {},
   "outputs": [],
   "source": [
    "# Q6- perform bitwise operations on any two integer."
   ]
  },
  {
   "cell_type": "code",
   "execution_count": 90,
   "id": "f1261108-b82d-4809-ac1b-fe3b84c7134c",
   "metadata": {},
   "outputs": [
    {
     "data": {
      "text/plain": [
       "12"
      ]
     },
     "execution_count": 90,
     "metadata": {},
     "output_type": "execute_result"
    }
   ],
   "source": [
    "# & operator\n",
    "12 & 15"
   ]
  },
  {
   "cell_type": "code",
   "execution_count": 109,
   "id": "a251d796-9bfb-4805-bf2e-cf6e53766123",
   "metadata": {},
   "outputs": [
    {
     "data": {
      "text/plain": [
       "15"
      ]
     },
     "execution_count": 109,
     "metadata": {},
     "output_type": "execute_result"
    }
   ],
   "source": [
    "# OR operator\n",
    "12 | 15"
   ]
  },
  {
   "cell_type": "code",
   "execution_count": 92,
   "id": "1bfbf3d5-18c4-4d67-9dca-86edcbfd3a32",
   "metadata": {},
   "outputs": [
    {
     "data": {
      "text/plain": [
       "30"
      ]
     },
     "execution_count": 92,
     "metadata": {},
     "output_type": "execute_result"
    }
   ],
   "source": [
    "# XOR operator\n",
    "10 ^ 20"
   ]
  },
  {
   "cell_type": "code",
   "execution_count": 94,
   "id": "10f6c69f-5bbe-4597-b464-d88b49f86eea",
   "metadata": {},
   "outputs": [
    {
     "data": {
      "text/plain": [
       "40"
      ]
     },
     "execution_count": 94,
     "metadata": {},
     "output_type": "execute_result"
    }
   ],
   "source": [
    "# shift left <<\n",
    "10 << 2"
   ]
  },
  {
   "cell_type": "code",
   "execution_count": 95,
   "id": "a951ff70-0bf9-40cf-9038-a55091ed07d3",
   "metadata": {},
   "outputs": [
    {
     "data": {
      "text/plain": [
       "2"
      ]
     },
     "execution_count": 95,
     "metadata": {},
     "output_type": "execute_result"
    }
   ],
   "source": [
    "# right shift >>\n",
    "10 >> 2"
   ]
  },
  {
   "cell_type": "code",
   "execution_count": 98,
   "id": "c6c709c6-9536-4385-86b2-aa2bdf6aa8b0",
   "metadata": {},
   "outputs": [
    {
     "data": {
      "text/plain": [
       "-11"
      ]
     },
     "execution_count": 98,
     "metadata": {},
     "output_type": "execute_result"
    }
   ],
   "source": [
    "# bitwise not\n",
    "~10"
   ]
  },
  {
   "cell_type": "code",
   "execution_count": 99,
   "id": "3614aef4-6403-4927-993a-be3a65864557",
   "metadata": {},
   "outputs": [
    {
     "data": {
      "text/plain": [
       "-102"
      ]
     },
     "execution_count": 99,
     "metadata": {},
     "output_type": "execute_result"
    }
   ],
   "source": [
    "~101"
   ]
  },
  {
   "cell_type": "code",
   "execution_count": 101,
   "id": "8e035e64-998a-438a-8fc3-8d559c9f50eb",
   "metadata": {},
   "outputs": [],
   "source": [
    "# Q7- use unary operator to change the sign of a number."
   ]
  },
  {
   "cell_type": "code",
   "execution_count": 104,
   "id": "de510438-1f9b-489e-b891-89255a3e62c5",
   "metadata": {},
   "outputs": [
    {
     "name": "stdout",
     "output_type": "stream",
     "text": [
      "-25\n"
     ]
    }
   ],
   "source": [
    "# Using unary operator to change the sign of a number\n",
    "number = 25\n",
    "\n",
    "# Changing the sign of the number using unary negation operator\n",
    "changed_number = -number\n",
    "\n",
    "print(changed_number)"
   ]
  },
  {
   "cell_type": "code",
   "execution_count": 103,
   "id": "3bb5ab0d-bac3-4f0c-b57b-dcf56bc1d5c3",
   "metadata": {},
   "outputs": [],
   "source": [
    "# Q8- use ternary operator to assign values based on conditions."
   ]
  },
  {
   "cell_type": "code",
   "execution_count": 108,
   "id": "89f98c29-e13e-4324-b7c4-00aee7992047",
   "metadata": {},
   "outputs": [
    {
     "name": "stdout",
     "output_type": "stream",
     "text": [
      "20\n"
     ]
    }
   ],
   "source": [
    "t = 10\n",
    "u = 20\n",
    "\n",
    "# Assigning a value to z based on the condition\n",
    "v = t if t > u else u\n",
    "\n",
    "print(v)"
   ]
  }
 ],
 "metadata": {
  "kernelspec": {
   "display_name": "Python 3 (ipykernel)",
   "language": "python",
   "name": "python3"
  },
  "language_info": {
   "codemirror_mode": {
    "name": "ipython",
    "version": 3
   },
   "file_extension": ".py",
   "mimetype": "text/x-python",
   "name": "python",
   "nbconvert_exporter": "python",
   "pygments_lexer": "ipython3",
   "version": "3.10.8"
  }
 },
 "nbformat": 4,
 "nbformat_minor": 5
}
